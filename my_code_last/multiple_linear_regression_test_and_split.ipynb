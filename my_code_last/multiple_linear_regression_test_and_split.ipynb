{
 "cells": [
  {
   "cell_type": "code",
   "execution_count": 2,
   "id": "cdbc35d7",
   "metadata": {},
   "outputs": [],
   "source": [
    "import numpy as np\n",
    "from sklearn.model_selection import train_test_split"
   ]
  },
  {
   "cell_type": "code",
   "execution_count": 70,
   "id": "7bf0e0e4",
   "metadata": {},
   "outputs": [
    {
     "data": {
      "text/plain": [
       "array([  1,   2,   3,   4,   5,   6,   7,   8,   9,  10,  11,  12,  13,\n",
       "        14,  15,  16,  17,  18,  19,  20,  21,  22,  23,  24,  25,  26,\n",
       "        27,  28,  29,  30,  31,  32,  33,  34,  35,  36,  37,  38,  39,\n",
       "        40,  41,  42,  43,  44,  45,  46,  47,  48,  49,  50,  51,  52,\n",
       "        53,  54,  55,  56,  57,  58,  59,  60,  61,  62,  63,  64,  65,\n",
       "        66,  67,  68,  69,  70,  71,  72,  73,  74,  75,  76,  77,  78,\n",
       "        79,  80,  81,  82,  83,  84,  85,  86,  87,  88,  89,  90,  91,\n",
       "        92,  93,  94,  95,  96,  97,  98,  99, 100])"
      ]
     },
     "execution_count": 70,
     "metadata": {},
     "output_type": "execute_result"
    }
   ],
   "source": [
    "a = np.arange(1,101)\n",
    "a"
   ]
  },
  {
   "cell_type": "code",
   "execution_count": 71,
   "id": "74836d34",
   "metadata": {},
   "outputs": [
    {
     "data": {
      "text/plain": [
       "array([501, 502, 503, 504, 505, 506, 507, 508, 509, 510, 511, 512, 513,\n",
       "       514, 515, 516, 517, 518, 519, 520, 521, 522, 523, 524, 525, 526,\n",
       "       527, 528, 529, 530, 531, 532, 533, 534, 535, 536, 537, 538, 539,\n",
       "       540, 541, 542, 543, 544, 545, 546, 547, 548, 549, 550, 551, 552,\n",
       "       553, 554, 555, 556, 557, 558, 559, 560, 561, 562, 563, 564, 565,\n",
       "       566, 567, 568, 569, 570, 571, 572, 573, 574, 575, 576, 577, 578,\n",
       "       579, 580, 581, 582, 583, 584, 585, 586, 587, 588, 589, 590, 591,\n",
       "       592, 593, 594, 595, 596, 597, 598, 599, 600])"
      ]
     },
     "execution_count": 71,
     "metadata": {},
     "output_type": "execute_result"
    }
   ],
   "source": [
    "b = np.arange(501,601)\n",
    "b"
   ]
  },
  {
   "cell_type": "code",
   "execution_count": 72,
   "id": "8bc805b3",
   "metadata": {},
   "outputs": [
    {
     "data": {
      "text/plain": [
       "[array([ 42,  83,  75,  39,  17,  41,  97,  21,  58,  28,  66,  73,  31,\n",
       "         62,  35,  91,  80,  96,  99,  37, 100,  76,  79,   9,  11,  92,\n",
       "         71,  10,  24,  89,  49,  70,  95,  54,  43,  44,  18,  82,  64,\n",
       "          3,  53,  93,   4,  57,  48,  33,   1,   7,  46,  94,  56,  14,\n",
       "         85,  47,  15,  13,  32,  27,  74,  30,  52,  78,  50,  26,  19,\n",
       "         87,  40,  98,  12,  86,  59,  69,  34,  23,  68]),\n",
       " array([29, 61, 25, 84, 55, 36, 67, 81, 88,  6, 22, 45,  2, 51, 60, 77, 65,\n",
       "        72, 63,  8, 20, 38, 90,  5, 16])]"
      ]
     },
     "execution_count": 72,
     "metadata": {},
     "output_type": "execute_result"
    }
   ],
   "source": [
    "train_test_split(a)\n",
    "#get difference splitted arrays every time"
   ]
  },
  {
   "cell_type": "code",
   "execution_count": 74,
   "id": "0e5f4882",
   "metadata": {},
   "outputs": [],
   "source": [
    "a_train, a_test = train_test_split(a)"
   ]
  },
  {
   "cell_type": "code",
   "execution_count": 75,
   "id": "c81353de",
   "metadata": {},
   "outputs": [
    {
     "data": {
      "text/plain": [
       "array([50, 30,  9, 19, 42, 76, 92, 11, 10, 90, 57, 22, 24, 69, 67, 55,  6,\n",
       "       47, 28, 40, 32, 39, 87, 27, 29, 64,  2, 82, 33, 25, 38, 86, 16, 66,\n",
       "       62, 77, 44, 85, 13, 21, 93, 71,  8, 52, 45, 36, 18,  5, 49, 97, 17,\n",
       "       80, 12, 51, 84, 41,  4, 99, 54, 37, 72, 68, 98, 35, 59, 83, 70, 60,\n",
       "       15, 20, 63, 23, 75, 53, 79])"
      ]
     },
     "execution_count": 75,
     "metadata": {},
     "output_type": "execute_result"
    }
   ],
   "source": [
    "a_train"
   ]
  },
  {
   "cell_type": "code",
   "execution_count": 76,
   "id": "0a917f32",
   "metadata": {},
   "outputs": [
    {
     "data": {
      "text/plain": [
       "array([ 89,  94,  43,  88,  48, 100,   3,  56,  91,   1,  26,  96,   7,\n",
       "        74,  95,  78,  65,  14,  31,  73,  61,  58,  81,  46,  34])"
      ]
     },
     "execution_count": 76,
     "metadata": {},
     "output_type": "execute_result"
    }
   ],
   "source": [
    "a_test"
   ]
  },
  {
   "cell_type": "code",
   "execution_count": 77,
   "id": "84b4436e",
   "metadata": {},
   "outputs": [],
   "source": [
    "a_train, a_test = train_test_split(a, test_size=0.2)\n",
    "#you can change the split size"
   ]
  },
  {
   "cell_type": "code",
   "execution_count": 78,
   "id": "5e8271be",
   "metadata": {},
   "outputs": [
    {
     "data": {
      "text/plain": [
       "array([ 81,  65,   5,  59,  93,  35,  97,  88,  50,  23,  95,  80,  28,\n",
       "        18,  11,   1,  99,  29,  24,  74,  56,  85,  34,   8,  71,  96,\n",
       "        19,  42,  37,  66,  69,  36,  52,  12,  26,  10,  45,  86,  21,\n",
       "        72,  63,  55,  62,  46,  49,   2,  70,  22,  77,  47,  44,  16,\n",
       "        64,  68, 100,  67,  43,  40,   7,  14,  33,  94,  58,  27,  32,\n",
       "        61,  82,  57,  38,  73,  54,  31,  48,  30,   6,  51,  84,  20,\n",
       "        75,  17])"
      ]
     },
     "execution_count": 78,
     "metadata": {},
     "output_type": "execute_result"
    }
   ],
   "source": [
    "a_train"
   ]
  },
  {
   "cell_type": "code",
   "execution_count": 79,
   "id": "b2f44089",
   "metadata": {},
   "outputs": [
    {
     "data": {
      "text/plain": [
       "array([87, 92,  4, 98,  3, 91, 15, 25, 78, 83, 76, 89, 90, 53,  9, 60, 13,\n",
       "       79, 39, 41])"
      ]
     },
     "execution_count": 79,
     "metadata": {},
     "output_type": "execute_result"
    }
   ],
   "source": [
    "a_test"
   ]
  },
  {
   "cell_type": "code",
   "execution_count": 80,
   "id": "87026342",
   "metadata": {},
   "outputs": [],
   "source": [
    "a_train, a_test = train_test_split(a, test_size=0.2, shuffle=False)\n",
    "#you can close the shuffle option\n",
    "#this removes day of the week effect, time dependencies, ..."
   ]
  },
  {
   "cell_type": "code",
   "execution_count": 81,
   "id": "653018a3",
   "metadata": {},
   "outputs": [
    {
     "data": {
      "text/plain": [
       "array([ 1,  2,  3,  4,  5,  6,  7,  8,  9, 10, 11, 12, 13, 14, 15, 16, 17,\n",
       "       18, 19, 20, 21, 22, 23, 24, 25, 26, 27, 28, 29, 30, 31, 32, 33, 34,\n",
       "       35, 36, 37, 38, 39, 40, 41, 42, 43, 44, 45, 46, 47, 48, 49, 50, 51,\n",
       "       52, 53, 54, 55, 56, 57, 58, 59, 60, 61, 62, 63, 64, 65, 66, 67, 68,\n",
       "       69, 70, 71, 72, 73, 74, 75, 76, 77, 78, 79, 80])"
      ]
     },
     "execution_count": 81,
     "metadata": {},
     "output_type": "execute_result"
    }
   ],
   "source": [
    "a_train"
   ]
  },
  {
   "cell_type": "code",
   "execution_count": 82,
   "id": "0bf6e7b5",
   "metadata": {},
   "outputs": [
    {
     "data": {
      "text/plain": [
       "array([ 81,  82,  83,  84,  85,  86,  87,  88,  89,  90,  91,  92,  93,\n",
       "        94,  95,  96,  97,  98,  99, 100])"
      ]
     },
     "execution_count": 82,
     "metadata": {},
     "output_type": "execute_result"
    }
   ],
   "source": [
    "a_test"
   ]
  },
  {
   "cell_type": "code",
   "execution_count": 83,
   "id": "d769562f",
   "metadata": {},
   "outputs": [],
   "source": [
    "a_train, a_test = train_test_split(a, test_size=0.2, random_state=42)\n",
    "#random state is define the shuffle organization\n",
    "#it gives us the chance every time we shuffle we get exactly the same arrays"
   ]
  },
  {
   "cell_type": "code",
   "execution_count": 84,
   "id": "b9328a1d",
   "metadata": {},
   "outputs": [
    {
     "data": {
      "text/plain": [
       "array([ 56,  89,  27,  43,  70,  16,  41,  97,  10,  73,  12,  48,  86,\n",
       "        29,  94,   6,  67,  66,  36,  17,  50,  35,   8,  96,  28,  20,\n",
       "        82,  26,  63,  14,  25,   4,  18,  39,   9,  79,   7,  65,  37,\n",
       "        90,  57, 100,  55,  44,  51,  68,  47,  69,  62,  98,  80,  42,\n",
       "        59,  49,  99,  58,  76,  33,  95,  60,  64,  85,  38,  30,   2,\n",
       "        53,  22,   3,  24,  88,  92,  75,  87,  83,  21,  61,  72,  15,\n",
       "        93,  52])"
      ]
     },
     "execution_count": 84,
     "metadata": {},
     "output_type": "execute_result"
    }
   ],
   "source": [
    "a_train"
   ]
  },
  {
   "cell_type": "code",
   "execution_count": 85,
   "id": "fe72696f",
   "metadata": {},
   "outputs": [
    {
     "data": {
      "text/plain": [
       "array([84, 54, 71, 46, 45, 40, 23, 81, 11,  1, 19, 31, 74, 34, 91,  5, 77,\n",
       "       78, 13, 32])"
      ]
     },
     "execution_count": 85,
     "metadata": {},
     "output_type": "execute_result"
    }
   ],
   "source": [
    "a_test"
   ]
  },
  {
   "cell_type": "code",
   "execution_count": 86,
   "id": "a436839d",
   "metadata": {},
   "outputs": [],
   "source": [
    "a_train, a_test, b_train, b_test = train_test_split(a, b, test_size=0.2, random_state=42)\n",
    "#we can use train_test_split for multiple arrays\n",
    "#a_train has matched with b_train\n",
    "#a_test has matched with b_test\n",
    "#whatever happens to a_train happens exactly the same thing in b_train too"
   ]
  },
  {
   "cell_type": "code",
   "execution_count": 88,
   "id": "ba87139e",
   "metadata": {},
   "outputs": [
    {
     "data": {
      "text/plain": [
       "array([ 56,  89,  27,  43,  70,  16,  41,  97,  10,  73,  12,  48,  86,\n",
       "        29,  94,   6,  67,  66,  36,  17,  50,  35,   8,  96,  28,  20,\n",
       "        82,  26,  63,  14,  25,   4,  18,  39,   9,  79,   7,  65,  37,\n",
       "        90,  57, 100,  55,  44,  51,  68,  47,  69,  62,  98,  80,  42,\n",
       "        59,  49,  99,  58,  76,  33,  95,  60,  64,  85,  38,  30,   2,\n",
       "        53,  22,   3,  24,  88,  92,  75,  87,  83,  21,  61,  72,  15,\n",
       "        93,  52])"
      ]
     },
     "execution_count": 88,
     "metadata": {},
     "output_type": "execute_result"
    }
   ],
   "source": [
    "a_train "
   ]
  },
  {
   "cell_type": "code",
   "execution_count": 90,
   "id": "69de09f8",
   "metadata": {},
   "outputs": [
    {
     "data": {
      "text/plain": [
       "array([556, 589, 527, 543, 570, 516, 541, 597, 510, 573, 512, 548, 586,\n",
       "       529, 594, 506, 567, 566, 536, 517, 550, 535, 508, 596, 528, 520,\n",
       "       582, 526, 563, 514, 525, 504, 518, 539, 509, 579, 507, 565, 537,\n",
       "       590, 557, 600, 555, 544, 551, 568, 547, 569, 562, 598, 580, 542,\n",
       "       559, 549, 599, 558, 576, 533, 595, 560, 564, 585, 538, 530, 502,\n",
       "       553, 522, 503, 524, 588, 592, 575, 587, 583, 521, 561, 572, 515,\n",
       "       593, 552])"
      ]
     },
     "execution_count": 90,
     "metadata": {},
     "output_type": "execute_result"
    }
   ],
   "source": [
    "b_train"
   ]
  },
  {
   "cell_type": "code",
   "execution_count": 92,
   "id": "da1b2870",
   "metadata": {},
   "outputs": [
    {
     "data": {
      "text/plain": [
       "array([84, 54, 71, 46, 45, 40, 23, 81, 11,  1, 19, 31, 74, 34, 91,  5, 77,\n",
       "       78, 13, 32])"
      ]
     },
     "execution_count": 92,
     "metadata": {},
     "output_type": "execute_result"
    }
   ],
   "source": [
    "a_test"
   ]
  },
  {
   "cell_type": "code",
   "execution_count": 93,
   "id": "9a8c705e",
   "metadata": {},
   "outputs": [
    {
     "data": {
      "text/plain": [
       "array([584, 554, 571, 546, 545, 540, 523, 581, 511, 501, 519, 531, 574,\n",
       "       534, 591, 505, 577, 578, 513, 532])"
      ]
     },
     "execution_count": 93,
     "metadata": {},
     "output_type": "execute_result"
    }
   ],
   "source": [
    "b_test"
   ]
  }
 ],
 "metadata": {
  "kernelspec": {
   "display_name": "Python 3 (ipykernel)",
   "language": "python",
   "name": "python3"
  },
  "language_info": {
   "codemirror_mode": {
    "name": "ipython",
    "version": 3
   },
   "file_extension": ".py",
   "mimetype": "text/x-python",
   "name": "python",
   "nbconvert_exporter": "python",
   "pygments_lexer": "ipython3",
   "version": "3.10.9"
  }
 },
 "nbformat": 4,
 "nbformat_minor": 5
}
