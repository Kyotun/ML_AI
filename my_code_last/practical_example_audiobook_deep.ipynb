{
 "cells": [
  {
   "cell_type": "code",
   "execution_count": 30,
   "id": "a20cc59b",
   "metadata": {},
   "outputs": [],
   "source": [
    "import numpy as np\n",
    "from sklearn import preprocessing\n",
    "#sklearn for standardizing\n",
    "\n",
    "raw_csv_data = np.loadtxt('../Part_7_Deep_Learning/S51_L352/audiobooks_data.csv', delimiter = ',')\n",
    "\n",
    "#first column is useless, is user ID\n",
    "#last column contains our targets\n",
    "unscaled_inputs_all = raw_csv_data[:,1:-1]\n",
    "targets_all = raw_csv_data[:,-1]"
   ]
  },
  {
   "cell_type": "markdown",
   "id": "5796ef67",
   "metadata": {},
   "source": [
    "### Balance the dataset"
   ]
  },
  {
   "cell_type": "code",
   "execution_count": 31,
   "id": "71c2be79",
   "metadata": {},
   "outputs": [],
   "source": [
    "num_one_targets = int(np.sum(targets_all)) # count of 1s\n",
    "zero_targets_counter = 0 #counter for # of 0s\n",
    "indicies_to_remove = [] #tuple for indicies to remove\n",
    "\n",
    "for i in range(targets_all.shape[0]): #for loop, count of this loop equals to # of indicies\n",
    "    if targets_all[i] == 0: #if indicies i has a target = 0\n",
    "        zero_targets_counter += 1\n",
    "        if zero_targets_counter > num_one_targets:\n",
    "            indicies_to_remove.append(i) #add the indicies to tuple indicies_to_remove\n",
    "\n",
    "#delete all indicies, which are excess(more than necessary)\n",
    "# #we balanced the # of 0s and 1s, by deleting the excess amount of 0s\n",
    "unscaled_inputs_equal_priors = np.delete(unscaled_inputs_all, indicies_to_remove, axis=0)\n",
    "\n",
    "#delete all indicies, which are excess(surplus of 0s)\n",
    "targets_equal_priors = np.delete(targets_all, indicies_to_remove, axis=0)"
   ]
  },
  {
   "cell_type": "markdown",
   "id": "04a21188",
   "metadata": {},
   "source": [
    "### Standardize the inputs"
   ]
  },
  {
   "cell_type": "code",
   "execution_count": 32,
   "id": "62baa4ec",
   "metadata": {},
   "outputs": [],
   "source": [
    "scaled_inputs = preprocessing.scale(unscaled_inputs_equal_priors)"
   ]
  },
  {
   "cell_type": "markdown",
   "id": "b648e21d",
   "metadata": {},
   "source": [
    "### Shuffle the data, for more effective batch"
   ]
  },
  {
   "cell_type": "code",
   "execution_count": 33,
   "id": "c31eeaeb",
   "metadata": {},
   "outputs": [],
   "source": [
    "#.arange([start],stop) = returns a evenly spaced values within a given interval\n",
    "#np.random.shuffle = shuffles the numbers in a given sequence\n",
    "shuffled_indicies = np.arange(scaled_inputs.shape[0])\n",
    "np.random.shuffle(shuffled_indicies)\n",
    "\n",
    "shuffled_inputs = scaled_inputs[shuffled_indicies]\n",
    "shuffled_targets = targets_equal_priors[shuffled_indicies]"
   ]
  },
  {
   "cell_type": "markdown",
   "id": "f24a7c98",
   "metadata": {},
   "source": [
    "### Split the dataset into train, valid, test"
   ]
  },
  {
   "cell_type": "code",
   "execution_count": 34,
   "id": "24487ade",
   "metadata": {},
   "outputs": [
    {
     "name": "stdout",
     "output_type": "stream",
     "text": [
      "1784.0 3579 0.4984632578932663\n",
      "220.0 447 0.49217002237136465\n",
      "233.0 448 0.5200892857142857\n"
     ]
    }
   ],
   "source": [
    "samples_count = shuffled_inputs.shape[0]\n",
    "\n",
    "train_samples_count = int(0.8*samples_count)\n",
    "validation_samples_count = int(0.1*samples_count)\n",
    "test_samples_count = samples_count - train_samples_count - validation_samples_count\n",
    "\n",
    "train_inputs = shuffled_inputs[:train_samples_count]\n",
    "train_targets = shuffled_targets[:train_samples_count]\n",
    "\n",
    "validation_inputs = shuffled_inputs[train_samples_count:train_samples_count + validation_samples_count]\n",
    "validation_targets = shuffled_targets[train_samples_count:train_samples_count + validation_samples_count]\n",
    "\n",
    "test_inputs = shuffled_inputs[train_samples_count + validation_samples_count:]\n",
    "test_targets = shuffled_targets[train_samples_count + validation_samples_count:]\n",
    "\n",
    "print(np.sum(train_targets), train_samples_count, np.sum(train_targets)/train_samples_count)\n",
    "print(np.sum(validation_targets), validation_samples_count, np.sum(validation_targets)/validation_samples_count)\n",
    "print(np.sum(test_targets), test_samples_count, np.sum(test_targets)/test_samples_count)"
   ]
  },
  {
   "cell_type": "markdown",
   "id": "b3351cd3",
   "metadata": {},
   "source": [
    "### Save the datas in *.npz"
   ]
  },
  {
   "cell_type": "code",
   "execution_count": 36,
   "id": "aed45509",
   "metadata": {},
   "outputs": [],
   "source": [
    "np.savez('../Part_7_Deep_Learning/S51_L352/audiobooks_data_train', inputs = train_inputs, targets = train_targets)\n",
    "np.savez('../Part_7_Deep_Learning/S51_L352/audiobooks_data_validation', inputs = validation_inputs, targets = validation_targets)\n",
    "np.savez('../Part_7_Deep_Learning/S51_L352/audiobooks_data_test', inputs = test_inputs, targets = test_targets)"
   ]
  }
 ],
 "metadata": {
  "kernelspec": {
   "display_name": "Python 3 (ipykernel)",
   "language": "python",
   "name": "python3"
  },
  "language_info": {
   "codemirror_mode": {
    "name": "ipython",
    "version": 3
   },
   "file_extension": ".py",
   "mimetype": "text/x-python",
   "name": "python",
   "nbconvert_exporter": "python",
   "pygments_lexer": "ipython3",
   "version": "3.10.11"
  }
 },
 "nbformat": 4,
 "nbformat_minor": 5
}
