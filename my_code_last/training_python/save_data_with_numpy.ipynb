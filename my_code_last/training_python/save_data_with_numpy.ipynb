{
 "cells": [
  {
   "cell_type": "code",
   "execution_count": 1,
   "id": "fd9c1d87",
   "metadata": {},
   "outputs": [],
   "source": [
    "import numpy as np\n",
    "import pandas as pd"
   ]
  },
  {
   "cell_type": "code",
   "execution_count": 2,
   "id": "25b4ee89",
   "metadata": {},
   "outputs": [
    {
     "name": "stdout",
     "output_type": "stream",
     "text": [
      "[['LoanID' 'StringID' 'Product' ... 'Location' 'Region' 'TotalPrice']\n",
      " ['1' 'id_1' 'Product B' ... 'Location 2' 'Region 2' '16600.0']\n",
      " ['2' 'id_2' 'Product B' ... 'Location 3' '' '16600.0']\n",
      " ...\n",
      " ['1041' 'id_1041' 'Product B' ... 'Location 23' 'Region 4' '16600.0']\n",
      " ['1042' 'id_1042' 'Product C' ... 'Location 52' 'Region 6' '15600.0']\n",
      " ['1043' 'id_1043' 'Product B' ... 'Location 142' 'Region 6' '16600.0']]\n"
     ]
    }
   ],
   "source": [
    "data = np.genfromtxt(\"Lending-Company-Saving.csv\",\n",
    "                     delimiter=',',\n",
    "                     dtype=str)\n",
    "print(data)"
   ]
  },
  {
   "cell_type": "code",
   "execution_count": 3,
   "id": "520be183",
   "metadata": {},
   "outputs": [],
   "source": [
    "np.save('Lending-Company-Saving',data)\n",
    "#creates a file-name.npy file"
   ]
  },
  {
   "cell_type": "code",
   "execution_count": 4,
   "id": "f623ee4f",
   "metadata": {},
   "outputs": [
    {
     "name": "stdout",
     "output_type": "stream",
     "text": [
      "[['LoanID' 'StringID' 'Product' ... 'Location' 'Region' 'TotalPrice']\n",
      " ['1' 'id_1' 'Product B' ... 'Location 2' 'Region 2' '16600.0']\n",
      " ['2' 'id_2' 'Product B' ... 'Location 3' '' '16600.0']\n",
      " ...\n",
      " ['1041' 'id_1041' 'Product B' ... 'Location 23' 'Region 4' '16600.0']\n",
      " ['1042' 'id_1042' 'Product C' ... 'Location 52' 'Region 6' '15600.0']\n",
      " ['1043' 'id_1043' 'Product B' ... 'Location 142' 'Region 6' '16600.0']]\n"
     ]
    }
   ],
   "source": [
    "test = np.load('Lending-Company-Saving.npy')\n",
    "print(test)"
   ]
  },
  {
   "cell_type": "code",
   "execution_count": 5,
   "id": "44073e01",
   "metadata": {},
   "outputs": [
    {
     "data": {
      "text/plain": [
       "numpy.ndarray"
      ]
     },
     "execution_count": 5,
     "metadata": {},
     "output_type": "execute_result"
    }
   ],
   "source": [
    "type(test)"
   ]
  },
  {
   "cell_type": "code",
   "execution_count": 6,
   "id": "fc4a8870",
   "metadata": {},
   "outputs": [
    {
     "data": {
      "text/plain": [
       "True"
      ]
     },
     "execution_count": 6,
     "metadata": {},
     "output_type": "execute_result"
    }
   ],
   "source": [
    "np.array_equal(test, data)"
   ]
  },
  {
   "cell_type": "markdown",
   "id": "dcacf192",
   "metadata": {},
   "source": [
    "### ---"
   ]
  },
  {
   "cell_type": "code",
   "execution_count": 8,
   "id": "e0444ec5",
   "metadata": {},
   "outputs": [],
   "source": [
    "data_csv = np.genfromtxt(\"Lending-Company-Saving.csv\",\n",
    "                     delimiter=',',\n",
    "                     dtype=str)\n",
    "data_npy = np.load('Lending-Company-Saving.npy')"
   ]
  },
  {
   "cell_type": "code",
   "execution_count": 9,
   "id": "df985ecf",
   "metadata": {},
   "outputs": [],
   "source": [
    "np.savez('Lending-Company-Saving',data_csv, data_npy)\n",
    "# it crease .npz file not .npy\n",
    "# you can store different datasets into seperate npy \n",
    "# or you can store the all datasets into one numpy array in .npz format"
   ]
  },
  {
   "cell_type": "code",
   "execution_count": 10,
   "id": "79892419",
   "metadata": {},
   "outputs": [],
   "source": [
    "data_npz = np.load('Lending-Company-Saving.npz')"
   ]
  },
  {
   "cell_type": "code",
   "execution_count": 11,
   "id": "0b30fe00",
   "metadata": {},
   "outputs": [
    {
     "name": "stdout",
     "output_type": "stream",
     "text": [
      "<numpy.lib.npyio.NpzFile object at 0x000001CC3DD5C350>\n"
     ]
    }
   ],
   "source": [
    "print(data_npz)\n",
    "# it contains collection of arrays\n",
    "# therefore it can't be properly displayed"
   ]
  },
  {
   "cell_type": "code",
   "execution_count": 15,
   "id": "7216cd14",
   "metadata": {},
   "outputs": [
    {
     "name": "stdout",
     "output_type": "stream",
     "text": [
      "[['LoanID' 'StringID' 'Product' ... 'Location' 'Region' 'TotalPrice']\n",
      " ['1' 'id_1' 'Product B' ... 'Location 2' 'Region 2' '16600.0']\n",
      " ['2' 'id_2' 'Product B' ... 'Location 3' '' '16600.0']\n",
      " ...\n",
      " ['1041' 'id_1041' 'Product B' ... 'Location 23' 'Region 4' '16600.0']\n",
      " ['1042' 'id_1042' 'Product C' ... 'Location 52' 'Region 6' '15600.0']\n",
      " ['1043' 'id_1043' 'Product B' ... 'Location 142' 'Region 6' '16600.0']]\n"
     ]
    }
   ],
   "source": [
    "# specify the array that you want to open\n",
    "print(data_npz[\"arr_0\"])"
   ]
  },
  {
   "cell_type": "code",
   "execution_count": 16,
   "id": "8ea45a9c",
   "metadata": {},
   "outputs": [
    {
     "name": "stdout",
     "output_type": "stream",
     "text": [
      "[['LoanID' 'StringID' 'Product' ... 'Location' 'Region' 'TotalPrice']\n",
      " ['1' 'id_1' 'Product B' ... 'Location 2' 'Region 2' '16600.0']\n",
      " ['2' 'id_2' 'Product B' ... 'Location 3' '' '16600.0']\n",
      " ...\n",
      " ['1041' 'id_1041' 'Product B' ... 'Location 23' 'Region 4' '16600.0']\n",
      " ['1042' 'id_1042' 'Product C' ... 'Location 52' 'Region 6' '15600.0']\n",
      " ['1043' 'id_1043' 'Product B' ... 'Location 142' 'Region 6' '16600.0']]\n"
     ]
    }
   ],
   "source": [
    "print(data_npz[\"arr_1\"])"
   ]
  },
  {
   "cell_type": "code",
   "execution_count": 17,
   "id": "41ce4e00",
   "metadata": {},
   "outputs": [],
   "source": [
    "np.savez('Lending-Company-Saving',csv = data_csv, npy = data_npy)"
   ]
  },
  {
   "cell_type": "code",
   "execution_count": 18,
   "id": "ca81fd2d",
   "metadata": {},
   "outputs": [],
   "source": [
    "data_npz = np.load('Lending-Company-Saving.npz')"
   ]
  },
  {
   "cell_type": "code",
   "execution_count": 19,
   "id": "08b9fe79",
   "metadata": {},
   "outputs": [
    {
     "data": {
      "text/plain": [
       "['csv', 'npy']"
      ]
     },
     "execution_count": 19,
     "metadata": {},
     "output_type": "execute_result"
    }
   ],
   "source": [
    "data_npz.files"
   ]
  },
  {
   "cell_type": "code",
   "execution_count": 20,
   "id": "1ba4c258",
   "metadata": {},
   "outputs": [
    {
     "name": "stdout",
     "output_type": "stream",
     "text": [
      "[['LoanID' 'StringID' 'Product' ... 'Location' 'Region' 'TotalPrice']\n",
      " ['1' 'id_1' 'Product B' ... 'Location 2' 'Region 2' '16600.0']\n",
      " ['2' 'id_2' 'Product B' ... 'Location 3' '' '16600.0']\n",
      " ...\n",
      " ['1041' 'id_1041' 'Product B' ... 'Location 23' 'Region 4' '16600.0']\n",
      " ['1042' 'id_1042' 'Product C' ... 'Location 52' 'Region 6' '15600.0']\n",
      " ['1043' 'id_1043' 'Product B' ... 'Location 142' 'Region 6' '16600.0']]\n"
     ]
    }
   ],
   "source": [
    "print(data_npz[\"csv\"])"
   ]
  },
  {
   "cell_type": "code",
   "execution_count": 21,
   "id": "55cdac8e",
   "metadata": {},
   "outputs": [
    {
     "name": "stdout",
     "output_type": "stream",
     "text": [
      "[['LoanID' 'StringID' 'Product' ... 'Location' 'Region' 'TotalPrice']\n",
      " ['1' 'id_1' 'Product B' ... 'Location 2' 'Region 2' '16600.0']\n",
      " ['2' 'id_2' 'Product B' ... 'Location 3' '' '16600.0']\n",
      " ...\n",
      " ['1041' 'id_1041' 'Product B' ... 'Location 23' 'Region 4' '16600.0']\n",
      " ['1042' 'id_1042' 'Product C' ... 'Location 52' 'Region 6' '15600.0']\n",
      " ['1043' 'id_1043' 'Product B' ... 'Location 142' 'Region 6' '16600.0']]\n"
     ]
    }
   ],
   "source": [
    "print(data_npz[\"npy\"])"
   ]
  },
  {
   "cell_type": "code",
   "execution_count": 22,
   "id": "a79963b4",
   "metadata": {},
   "outputs": [
    {
     "data": {
      "text/plain": [
       "True"
      ]
     },
     "execution_count": 22,
     "metadata": {},
     "output_type": "execute_result"
    }
   ],
   "source": [
    "np.array_equal(data_npz[\"npy\"], data_npz[\"csv\"])"
   ]
  },
  {
   "cell_type": "markdown",
   "id": "c7808ce9",
   "metadata": {},
   "source": [
    "### ---"
   ]
  },
  {
   "cell_type": "code",
   "execution_count": 23,
   "id": "32764a27",
   "metadata": {},
   "outputs": [],
   "source": [
    "data_csv = np.genfromtxt(\"Lending-Company-Saving.csv\",\n",
    "                     delimiter=',',\n",
    "                     dtype=str)"
   ]
  },
  {
   "cell_type": "code",
   "execution_count": 25,
   "id": "359ce373",
   "metadata": {},
   "outputs": [],
   "source": [
    "np.savetxt(\"Lending-Company-Saving.txt\",\n",
    "           data_csv,\n",
    "           fmt = '%s',\n",
    "           delimiter=',')\n",
    "#control the options with shift + tab\n",
    "#it can be opened by mini text editors"
   ]
  },
  {
   "cell_type": "code",
   "execution_count": 26,
   "id": "a0ec2de8",
   "metadata": {},
   "outputs": [
    {
     "name": "stdout",
     "output_type": "stream",
     "text": [
      "[['LoanID' 'StringID' 'Product' ... 'Location' 'Region' 'TotalPrice']\n",
      " ['1' 'id_1' 'Product B' ... 'Location 2' 'Region 2' '16600.0']\n",
      " ['2' 'id_2' 'Product B' ... 'Location 3' '' '16600.0']\n",
      " ...\n",
      " ['1041' 'id_1041' 'Product B' ... 'Location 23' 'Region 4' '16600.0']\n",
      " ['1042' 'id_1042' 'Product C' ... 'Location 52' 'Region 6' '15600.0']\n",
      " ['1043' 'id_1043' 'Product B' ... 'Location 142' 'Region 6' '16600.0']]\n"
     ]
    }
   ],
   "source": [
    "data_txt = np.genfromtxt(\"Lending-Company-Saving.txt\",\n",
    "                         delimiter=',',\n",
    "                         dtype=str)\n",
    "print(data_txt)"
   ]
  },
  {
   "cell_type": "code",
   "execution_count": 27,
   "id": "eac4b939",
   "metadata": {},
   "outputs": [],
   "source": [
    "data_npy = np.load(\"Lending-Company-Saving.npy\")"
   ]
  },
  {
   "cell_type": "code",
   "execution_count": 28,
   "id": "8fd536e0",
   "metadata": {},
   "outputs": [
    {
     "data": {
      "text/plain": [
       "True"
      ]
     },
     "execution_count": 28,
     "metadata": {},
     "output_type": "execute_result"
    }
   ],
   "source": [
    "np.array_equal(data_npy, data_txt)"
   ]
  },
  {
   "cell_type": "code",
   "execution_count": null,
   "id": "bf0359c1",
   "metadata": {},
   "outputs": [],
   "source": []
  }
 ],
 "metadata": {
  "kernelspec": {
   "display_name": "Python 3 (ipykernel)",
   "language": "python",
   "name": "python3"
  },
  "language_info": {
   "codemirror_mode": {
    "name": "ipython",
    "version": 3
   },
   "file_extension": ".py",
   "mimetype": "text/x-python",
   "name": "python",
   "nbconvert_exporter": "python",
   "pygments_lexer": "ipython3",
   "version": "3.11.4"
  }
 },
 "nbformat": 4,
 "nbformat_minor": 5
}
