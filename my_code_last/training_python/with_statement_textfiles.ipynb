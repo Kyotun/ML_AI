{
 "cells": [
  {
   "cell_type": "code",
   "execution_count": 16,
   "id": "b7ec485c",
   "metadata": {},
   "outputs": [],
   "source": [
    "filename = \"source.txt\""
   ]
  },
  {
   "cell_type": "code",
   "execution_count": 17,
   "id": "a990a48d",
   "metadata": {},
   "outputs": [],
   "source": [
    "file = open(filename, mode='r')"
   ]
  },
  {
   "cell_type": "code",
   "execution_count": 18,
   "id": "f31e429c",
   "metadata": {},
   "outputs": [
    {
     "data": {
      "text/plain": [
       "'selam'"
      ]
     },
     "execution_count": 18,
     "metadata": {},
     "output_type": "execute_result"
    }
   ],
   "source": [
    "text = file.read()\n",
    "#if you don't store the file.read() you would get empty string at the second time\n",
    "#close the file once you're done with it\n",
    "text"
   ]
  },
  {
   "cell_type": "code",
   "execution_count": 19,
   "id": "49c93d36",
   "metadata": {},
   "outputs": [
    {
     "data": {
      "text/plain": [
       "False"
      ]
     },
     "execution_count": 19,
     "metadata": {},
     "output_type": "execute_result"
    }
   ],
   "source": [
    "#check first if file is closed with .closed\n",
    "file.closed"
   ]
  },
  {
   "cell_type": "code",
   "execution_count": 20,
   "id": "d330f4df",
   "metadata": {},
   "outputs": [],
   "source": [
    "#close the file\n",
    "file.close()"
   ]
  },
  {
   "cell_type": "code",
   "execution_count": 21,
   "id": "cbe500d9",
   "metadata": {},
   "outputs": [
    {
     "data": {
      "text/plain": [
       "True"
      ]
     },
     "execution_count": 21,
     "metadata": {},
     "output_type": "execute_result"
    }
   ],
   "source": [
    "file.closed"
   ]
  },
  {
   "cell_type": "code",
   "execution_count": 22,
   "id": "4622555e",
   "metadata": {},
   "outputs": [],
   "source": [
    "with open(filename, mode='r') as out_file:\n",
    "    out_file.read()"
   ]
  },
  {
   "cell_type": "code",
   "execution_count": 23,
   "id": "b5753e33",
   "metadata": {},
   "outputs": [],
   "source": [
    "with open(filename, 'w') as out_file:\n",
    "    out_file.write(\"naber?\")"
   ]
  },
  {
   "cell_type": "code",
   "execution_count": 24,
   "id": "a35ccf5f",
   "metadata": {},
   "outputs": [
    {
     "name": "stdout",
     "output_type": "stream",
     "text": [
      "naber?\n"
     ]
    }
   ],
   "source": [
    "file = open(filename, mode='r')\n",
    "text = file.read()\n",
    "file.close()\n",
    "print(text)"
   ]
  },
  {
   "cell_type": "code",
   "execution_count": 26,
   "id": "ea8a7c4b",
   "metadata": {},
   "outputs": [
    {
     "name": "stdout",
     "output_type": "stream",
     "text": [
      "naber?\n"
     ]
    }
   ],
   "source": [
    "with open(filename, mode='r') as out_file:\n",
    "    new_text = out_file.read()\n",
    "print(new_text)"
   ]
  },
  {
   "cell_type": "code",
   "execution_count": 27,
   "id": "21fd7dca",
   "metadata": {},
   "outputs": [
    {
     "data": {
      "text/plain": [
       "True"
      ]
     },
     "execution_count": 27,
     "metadata": {},
     "output_type": "execute_result"
    }
   ],
   "source": [
    "file.closed\n",
    "# with statement closes the file after it's done with its thing"
   ]
  },
  {
   "cell_type": "code",
   "execution_count": null,
   "id": "4dc56226",
   "metadata": {},
   "outputs": [],
   "source": []
  }
 ],
 "metadata": {
  "kernelspec": {
   "display_name": "Python 3 (ipykernel)",
   "language": "python",
   "name": "python3"
  },
  "language_info": {
   "codemirror_mode": {
    "name": "ipython",
    "version": 3
   },
   "file_extension": ".py",
   "mimetype": "text/x-python",
   "name": "python",
   "nbconvert_exporter": "python",
   "pygments_lexer": "ipython3",
   "version": "3.11.4"
  }
 },
 "nbformat": 4,
 "nbformat_minor": 5
}
