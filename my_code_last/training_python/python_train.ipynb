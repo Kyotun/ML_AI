{
 "cells": [
  {
   "cell_type": "code",
   "execution_count": 1,
   "id": "ab8a35d8",
   "metadata": {},
   "outputs": [],
   "source": [
    "import pandas as pd\n",
    "#mathematical and nonmathematical methods\n",
    "#numerical and non-numerical datas"
   ]
  },
  {
   "cell_type": "code",
   "execution_count": 2,
   "id": "a66fb116",
   "metadata": {},
   "outputs": [],
   "source": [
    "products = ['A', 'B', 'C', 'D']"
   ]
  },
  {
   "cell_type": "code",
   "execution_count": 3,
   "id": "a22017a1",
   "metadata": {},
   "outputs": [
    {
     "data": {
      "text/plain": [
       "list"
      ]
     },
     "execution_count": 3,
     "metadata": {},
     "output_type": "execute_result"
    }
   ],
   "source": [
    "type(products)"
   ]
  },
  {
   "cell_type": "code",
   "execution_count": 4,
   "id": "86cadffd",
   "metadata": {},
   "outputs": [],
   "source": [
    "product_categories = pd.Series(products)"
   ]
  },
  {
   "cell_type": "code",
   "execution_count": 5,
   "id": "ce5d5b4a",
   "metadata": {},
   "outputs": [
    {
     "data": {
      "text/plain": [
       "pandas.core.series.Series"
      ]
     },
     "execution_count": 5,
     "metadata": {},
     "output_type": "execute_result"
    }
   ],
   "source": [
    "type(product_categories)"
   ]
  },
  {
   "cell_type": "code",
   "execution_count": 6,
   "id": "250a14d0",
   "metadata": {},
   "outputs": [
    {
     "data": {
      "text/plain": [
       "0    A\n",
       "1    B\n",
       "2    C\n",
       "3    D\n",
       "dtype: object"
      ]
     },
     "execution_count": 6,
     "metadata": {},
     "output_type": "execute_result"
    }
   ],
   "source": [
    "product_categories"
   ]
  },
  {
   "cell_type": "code",
   "execution_count": 7,
   "id": "57de5bd9",
   "metadata": {},
   "outputs": [
    {
     "data": {
      "text/plain": [
       "0    40\n",
       "1    45\n",
       "2    50\n",
       "3    60\n",
       "dtype: int64"
      ]
     },
     "execution_count": 7,
     "metadata": {},
     "output_type": "execute_result"
    }
   ],
   "source": [
    "daily_rates_dollars = pd.Series([40, 45, 50, 60])\n",
    "daily_rates_dollars"
   ]
  },
  {
   "cell_type": "code",
   "execution_count": 8,
   "id": "7ebc59d8",
   "metadata": {},
   "outputs": [],
   "source": [
    "import numpy as np\n",
    "#numerical datas\n",
    "#mathematical methods"
   ]
  },
  {
   "cell_type": "code",
   "execution_count": 9,
   "id": "9b2480da",
   "metadata": {},
   "outputs": [
    {
     "data": {
      "text/plain": [
       "array([10, 20, 30, 40, 50])"
      ]
     },
     "execution_count": 9,
     "metadata": {},
     "output_type": "execute_result"
    }
   ],
   "source": [
    "array_a = np.array([10, 20, 30, 40, 50])\n",
    "array_a"
   ]
  },
  {
   "cell_type": "code",
   "execution_count": 10,
   "id": "d537744f",
   "metadata": {},
   "outputs": [
    {
     "data": {
      "text/plain": [
       "numpy.ndarray"
      ]
     },
     "execution_count": 10,
     "metadata": {},
     "output_type": "execute_result"
    }
   ],
   "source": [
    "type(array_a)"
   ]
  },
  {
   "cell_type": "code",
   "execution_count": 11,
   "id": "8064b5da",
   "metadata": {},
   "outputs": [
    {
     "data": {
      "text/plain": [
       "0    10\n",
       "1    20\n",
       "2    30\n",
       "3    40\n",
       "4    50\n",
       "dtype: int32"
      ]
     },
     "execution_count": 11,
     "metadata": {},
     "output_type": "execute_result"
    }
   ],
   "source": [
    "series_a = pd.Series(array_a)\n",
    "series_a"
   ]
  },
  {
   "cell_type": "code",
   "execution_count": 12,
   "id": "579469cc",
   "metadata": {},
   "outputs": [
    {
     "data": {
      "text/plain": [
       "pandas.core.series.Series"
      ]
     },
     "execution_count": 12,
     "metadata": {},
     "output_type": "execute_result"
    }
   ],
   "source": [
    "type(series_a)"
   ]
  },
  {
   "cell_type": "code",
   "execution_count": 13,
   "id": "a8dec81d",
   "metadata": {},
   "outputs": [],
   "source": [
    "start_date_deposits = pd.Series({\n",
    "    '07/04/2014' : 2000,\n",
    "    '01/02/2014' : 2000,\n",
    "    '12/08/2014' : 1000,\n",
    "    '02/20/2014' : 2000,\n",
    "    '10/28/2014' : 2000,\n",
    "    '04/19/2014' : 2000,\n",
    "    '07/04/2014' : 2000,\n",
    "    '04/24/2014' : 2000,\n",
    "    '09/03/2014' : 4000,\n",
    "    '07/25/2014' : 2000,\n",
    "    '05/01/2014' : 2000,\n",
    "    '03/09/2014' : 2000,\n",
    "    '10/03/2014' : 2000,\n",
    "    '09/18/2014' : 2500,\n",
    "})"
   ]
  },
  {
   "cell_type": "code",
   "execution_count": 14,
   "id": "3d2f2272",
   "metadata": {},
   "outputs": [
    {
     "data": {
      "text/plain": [
       "07/04/2014    2000\n",
       "01/02/2014    2000\n",
       "12/08/2014    1000\n",
       "02/20/2014    2000\n",
       "10/28/2014    2000\n",
       "04/19/2014    2000\n",
       "04/24/2014    2000\n",
       "09/03/2014    4000\n",
       "07/25/2014    2000\n",
       "05/01/2014    2000\n",
       "03/09/2014    2000\n",
       "10/03/2014    2000\n",
       "09/18/2014    2500\n",
       "dtype: int64"
      ]
     },
     "execution_count": 14,
     "metadata": {},
     "output_type": "execute_result"
    }
   ],
   "source": [
    "start_date_deposits"
   ]
  },
  {
   "cell_type": "code",
   "execution_count": 15,
   "id": "2a66b257",
   "metadata": {},
   "outputs": [
    {
     "data": {
      "text/plain": [
       "27500"
      ]
     },
     "execution_count": 15,
     "metadata": {},
     "output_type": "execute_result"
    }
   ],
   "source": [
    "start_date_deposits.sum()"
   ]
  },
  {
   "cell_type": "code",
   "execution_count": 16,
   "id": "25a910e6",
   "metadata": {},
   "outputs": [
    {
     "data": {
      "text/plain": [
       "1000"
      ]
     },
     "execution_count": 16,
     "metadata": {},
     "output_type": "execute_result"
    }
   ],
   "source": [
    "start_date_deposits.min()"
   ]
  },
  {
   "cell_type": "code",
   "execution_count": 17,
   "id": "ca786ef7",
   "metadata": {},
   "outputs": [
    {
     "data": {
      "text/plain": [
       "4000"
      ]
     },
     "execution_count": 17,
     "metadata": {},
     "output_type": "execute_result"
    }
   ],
   "source": [
    "start_date_deposits.max()"
   ]
  },
  {
   "cell_type": "code",
   "execution_count": 18,
   "id": "c2399d5b",
   "metadata": {},
   "outputs": [
    {
     "data": {
      "text/plain": [
       "count      13.000000\n",
       "mean     2115.384615\n",
       "std       650.443636\n",
       "min      1000.000000\n",
       "25%      2000.000000\n",
       "50%      2000.000000\n",
       "75%      2000.000000\n",
       "max      4000.000000\n",
       "dtype: float64"
      ]
     },
     "execution_count": 18,
     "metadata": {},
     "output_type": "execute_result"
    }
   ],
   "source": [
    "start_date_deposits.describe()"
   ]
  },
  {
   "cell_type": "code",
   "execution_count": 19,
   "id": "1c4d3c60",
   "metadata": {},
   "outputs": [
    {
     "data": {
      "text/plain": [
       "2115.3846153846152"
      ]
     },
     "execution_count": 19,
     "metadata": {},
     "output_type": "execute_result"
    }
   ],
   "source": [
    "start_date_deposits.mean()"
   ]
  },
  {
   "cell_type": "code",
   "execution_count": 20,
   "id": "ac722869",
   "metadata": {},
   "outputs": [
    {
     "data": {
      "text/plain": [
       "2000.0"
      ]
     },
     "execution_count": 20,
     "metadata": {},
     "output_type": "execute_result"
    }
   ],
   "source": [
    "start_date_deposits.median()"
   ]
  },
  {
   "cell_type": "code",
   "execution_count": 21,
   "id": "93ea5cce",
   "metadata": {},
   "outputs": [
    {
     "data": {
      "text/plain": [
       "'09/03/2014'"
      ]
     },
     "execution_count": 21,
     "metadata": {},
     "output_type": "execute_result"
    }
   ],
   "source": [
    "start_date_deposits.idxmax()\n",
    "#returns the lowest deposits index"
   ]
  },
  {
   "cell_type": "code",
   "execution_count": 22,
   "id": "09f07f9f",
   "metadata": {},
   "outputs": [
    {
     "data": {
      "text/plain": [
       "'12/08/2014'"
      ]
     },
     "execution_count": 22,
     "metadata": {},
     "output_type": "execute_result"
    }
   ],
   "source": [
    "start_date_deposits.idxmin()\n",
    "#returns the highest deposits index"
   ]
  },
  {
   "cell_type": "code",
   "execution_count": 23,
   "id": "b5a1c095",
   "metadata": {},
   "outputs": [
    {
     "data": {
      "text/plain": [
       "07/04/2014    2000\n",
       "01/02/2014    2000\n",
       "12/08/2014    1000\n",
       "02/20/2014    2000\n",
       "10/28/2014    2000\n",
       "dtype: int64"
      ]
     },
     "execution_count": 23,
     "metadata": {},
     "output_type": "execute_result"
    }
   ],
   "source": [
    "start_date_deposits.head()\n",
    "#first 5 rows"
   ]
  },
  {
   "cell_type": "code",
   "execution_count": 24,
   "id": "6b3d24fe",
   "metadata": {},
   "outputs": [
    {
     "data": {
      "text/plain": [
       "07/25/2014    2000\n",
       "05/01/2014    2000\n",
       "03/09/2014    2000\n",
       "10/03/2014    2000\n",
       "09/18/2014    2500\n",
       "dtype: int64"
      ]
     },
     "execution_count": 24,
     "metadata": {},
     "output_type": "execute_result"
    }
   ],
   "source": [
    "start_date_deposits.tail()\n",
    "#last 5 rows"
   ]
  },
  {
   "cell_type": "code",
   "execution_count": 25,
   "id": "d392a429",
   "metadata": {},
   "outputs": [],
   "source": [
    "numbers = pd.Series([\n",
    "    1,\n",
    "    2,\n",
    "    2,\n",
    "    5,\n",
    "    5,\n",
    "    5,\n",
    "    5,\n",
    "    5,\n",
    "    6,\n",
    "    1,\n",
    "    2,\n",
    "    3,\n",
    "    3,\n",
    "    3,\n",
    "    10\n",
    "])"
   ]
  },
  {
   "cell_type": "code",
   "execution_count": 26,
   "id": "d0cdbd7e",
   "metadata": {},
   "outputs": [
    {
     "data": {
      "text/plain": [
       "count    15.000000\n",
       "mean      3.866667\n",
       "std       2.356349\n",
       "min       1.000000\n",
       "25%       2.000000\n",
       "50%       3.000000\n",
       "75%       5.000000\n",
       "max      10.000000\n",
       "dtype: float64"
      ]
     },
     "execution_count": 26,
     "metadata": {},
     "output_type": "execute_result"
    }
   ],
   "source": [
    "numbers.describe()"
   ]
  },
  {
   "cell_type": "code",
   "execution_count": 27,
   "id": "51b69d2c",
   "metadata": {},
   "outputs": [
    {
     "data": {
      "text/plain": [
       "15"
      ]
     },
     "execution_count": 27,
     "metadata": {},
     "output_type": "execute_result"
    }
   ],
   "source": [
    "len(numbers)"
   ]
  },
  {
   "cell_type": "code",
   "execution_count": 28,
   "id": "22bec9f3",
   "metadata": {},
   "outputs": [
    {
     "data": {
      "text/plain": [
       "array([ 1,  2,  5,  6,  3, 10], dtype=int64)"
      ]
     },
     "execution_count": 28,
     "metadata": {},
     "output_type": "execute_result"
    }
   ],
   "source": [
    "numbers.unique()"
   ]
  },
  {
   "cell_type": "code",
   "execution_count": 29,
   "id": "5c648ddb",
   "metadata": {},
   "outputs": [
    {
     "data": {
      "text/plain": [
       "6"
      ]
     },
     "execution_count": 29,
     "metadata": {},
     "output_type": "execute_result"
    }
   ],
   "source": [
    "numbers.nunique()"
   ]
  },
  {
   "cell_type": "code",
   "execution_count": 30,
   "id": "d2877a4a",
   "metadata": {},
   "outputs": [
    {
     "data": {
      "text/plain": [
       "0      1\n",
       "9      1\n",
       "1      2\n",
       "2      2\n",
       "10     2\n",
       "11     3\n",
       "12     3\n",
       "13     3\n",
       "3      5\n",
       "4      5\n",
       "5      5\n",
       "6      5\n",
       "7      5\n",
       "8      6\n",
       "14    10\n",
       "dtype: int64"
      ]
     },
     "execution_count": 30,
     "metadata": {},
     "output_type": "execute_result"
    }
   ],
   "source": [
    "numbers.sort_values()"
   ]
  },
  {
   "cell_type": "code",
   "execution_count": 31,
   "id": "d09f252c",
   "metadata": {},
   "outputs": [
    {
     "data": {
      "text/plain": [
       "0      1\n",
       "9      1\n",
       "1      2\n",
       "2      2\n",
       "10     2\n",
       "11     3\n",
       "12     3\n",
       "13     3\n",
       "3      5\n",
       "4      5\n",
       "5      5\n",
       "6      5\n",
       "7      5\n",
       "8      6\n",
       "14    10\n",
       "dtype: int64"
      ]
     },
     "execution_count": 31,
     "metadata": {},
     "output_type": "execute_result"
    }
   ],
   "source": [
    "numbers.sort_values(ascending=True)"
   ]
  },
  {
   "cell_type": "code",
   "execution_count": 32,
   "id": "0437282f",
   "metadata": {},
   "outputs": [
    {
     "data": {
      "text/plain": [
       "14    10\n",
       "8      6\n",
       "3      5\n",
       "4      5\n",
       "5      5\n",
       "6      5\n",
       "7      5\n",
       "11     3\n",
       "12     3\n",
       "13     3\n",
       "1      2\n",
       "2      2\n",
       "10     2\n",
       "0      1\n",
       "9      1\n",
       "dtype: int64"
      ]
     },
     "execution_count": 32,
     "metadata": {},
     "output_type": "execute_result"
    }
   ],
   "source": [
    "numbers.sort_values(ascending=False)"
   ]
  }
 ],
 "metadata": {
  "kernelspec": {
   "display_name": "Python 3 (ipykernel)",
   "language": "python",
   "name": "python3"
  },
  "language_info": {
   "codemirror_mode": {
    "name": "ipython",
    "version": 3
   },
   "file_extension": ".py",
   "mimetype": "text/x-python",
   "name": "python",
   "nbconvert_exporter": "python",
   "pygments_lexer": "ipython3",
   "version": "3.11.4"
  }
 },
 "nbformat": 4,
 "nbformat_minor": 5
}
