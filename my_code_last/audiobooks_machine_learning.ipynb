{
 "cells": [
  {
   "cell_type": "code",
   "execution_count": 1,
   "id": "54ccf22f",
   "metadata": {},
   "outputs": [],
   "source": [
    "import numpy as np\n",
    "import tensorflow as tf"
   ]
  },
  {
   "cell_type": "markdown",
   "id": "86f3db52",
   "metadata": {},
   "source": [
    "### Load the data"
   ]
  },
  {
   "cell_type": "code",
   "execution_count": 26,
   "id": "b01a2f61",
   "metadata": {},
   "outputs": [],
   "source": [
    "npz = np.load('../Part_7_Deep_Learning/S51_L352/audiobooks_data_train.npz')\n",
    "train_inputs = npz['inputs'].astype(np.float64)\n",
    "train_targets = npz['targets'].astype(np.int64)\n",
    "\n",
    "npz = np.load('../Part_7_Deep_Learning/S51_L352/audiobooks_data_validation.npz')\n",
    "validation_inputs = npz['inputs'].astype(np.float64)\n",
    "validation_targets = npz['targets'].astype(np.int64)\n",
    "\n",
    "npz = np.load('../Part_7_Deep_Learning/S51_L352/audiobooks_data_test.npz')\n",
    "test_inputs = npz['inputs'].astype(np.float64)\n",
    "test_targets = npz['targets'].astype(np.int64)"
   ]
  },
  {
   "cell_type": "code",
   "execution_count": 54,
   "id": "dfffe320",
   "metadata": {},
   "outputs": [
    {
     "name": "stdout",
     "output_type": "stream",
     "text": [
      "Epoch 1/100\n",
      "716/716 - 1s - loss: 0.3183 - accuracy: 0.8759 - val_loss: 0.2824 - val_accuracy: 0.8949 - 1s/epoch - 2ms/step\n",
      "Epoch 2/100\n",
      "716/716 - 1s - loss: 0.2698 - accuracy: 0.8994 - val_loss: 0.2745 - val_accuracy: 0.8971 - 695ms/epoch - 971us/step\n",
      "Epoch 3/100\n",
      "716/716 - 1s - loss: 0.2606 - accuracy: 0.9036 - val_loss: 0.2525 - val_accuracy: 0.9083 - 669ms/epoch - 934us/step\n",
      "Epoch 4/100\n",
      "716/716 - 1s - loss: 0.2620 - accuracy: 0.9058 - val_loss: 0.2488 - val_accuracy: 0.9016 - 657ms/epoch - 917us/step\n",
      "Epoch 5/100\n",
      "716/716 - 1s - loss: 0.2454 - accuracy: 0.9081 - val_loss: 0.2652 - val_accuracy: 0.9060 - 649ms/epoch - 906us/step\n",
      "Epoch 6/100\n",
      "716/716 - 1s - loss: 0.2480 - accuracy: 0.9067 - val_loss: 0.2427 - val_accuracy: 0.9105 - 646ms/epoch - 903us/step\n",
      "Epoch 7/100\n",
      "716/716 - 1s - loss: 0.2399 - accuracy: 0.9114 - val_loss: 0.2591 - val_accuracy: 0.9128 - 649ms/epoch - 907us/step\n",
      "Epoch 8/100\n",
      "716/716 - 1s - loss: 0.2382 - accuracy: 0.9109 - val_loss: 0.2581 - val_accuracy: 0.9128 - 648ms/epoch - 906us/step\n"
     ]
    },
    {
     "data": {
      "text/plain": [
       "<keras.callbacks.History at 0x1f38a1cb220>"
      ]
     },
     "execution_count": 54,
     "metadata": {},
     "output_type": "execute_result"
    }
   ],
   "source": [
    "input_size = 10\n",
    "output_size = 2\n",
    "hidden_layer_size = 200\n",
    "\n",
    "model = tf.keras.Sequential([\n",
    "    #tf.keras.layers.Flatten(input_shape=(,,)),\n",
    "    tf.keras.layers.Dense(hidden_layer_size, activation='relu'),\n",
    "    tf.keras.layers.Dense(hidden_layer_size, activation='relu'),\n",
    "    tf.keras.layers.Dense(output_size, activation='softmax')\n",
    "])\n",
    "\n",
    "model.compile(optimizer='adam', loss='sparse_categorical_crossentropy', metrics=['accuracy'])\n",
    "\n",
    "batch_size = 5\n",
    "max_epochs = 100\n",
    "early_stopping = tf.keras.callbacks.EarlyStopping(patience = 2)\n",
    "#it can be specified, if there could be a tolerance\n",
    "#therefore we use patience (how much value can we tolerate?)\n",
    "\n",
    "model.fit(\n",
    "    train_inputs,\n",
    "    train_targets,\n",
    "    batch_size = batch_size,\n",
    "    epochs = max_epochs,\n",
    "    callbacks=[early_stopping],\n",
    "    validation_data=(validation_inputs, validation_targets),\n",
    "    verbose=2\n",
    ")\n",
    "\n",
    "#earlystopping mechanism -> callbacks\n",
    "#callbacks are functions called at certain points during model training"
   ]
  },
  {
   "cell_type": "markdown",
   "id": "0520713d",
   "metadata": {},
   "source": [
    "### Test the model"
   ]
  },
  {
   "cell_type": "code",
   "execution_count": 55,
   "id": "2b16f32b",
   "metadata": {
    "scrolled": true
   },
   "outputs": [
    {
     "name": "stdout",
     "output_type": "stream",
     "text": [
      "14/14 [==============================] - 0s 962us/step - loss: 0.2405 - accuracy: 0.9107\n"
     ]
    }
   ],
   "source": [
    "test_loss, test_accuracy = model.evaluate(test_inputs, test_targets)\n",
    "#90.40\n",
    "#90.62"
   ]
  }
 ],
 "metadata": {
  "kernelspec": {
   "display_name": "Python 3 (ipykernel)",
   "language": "python",
   "name": "python3"
  },
  "language_info": {
   "codemirror_mode": {
    "name": "ipython",
    "version": 3
   },
   "file_extension": ".py",
   "mimetype": "text/x-python",
   "name": "python",
   "nbconvert_exporter": "python",
   "pygments_lexer": "ipython3",
   "version": "3.11.4"
  }
 },
 "nbformat": 4,
 "nbformat_minor": 5
}
