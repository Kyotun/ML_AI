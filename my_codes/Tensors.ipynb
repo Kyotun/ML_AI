{
 "cells": [
  {
   "cell_type": "code",
   "execution_count": 1,
   "id": "fa7a9505",
   "metadata": {},
   "outputs": [],
   "source": [
    "import numpy as np"
   ]
  },
  {
   "cell_type": "code",
   "execution_count": 2,
   "id": "f1223685",
   "metadata": {},
   "outputs": [],
   "source": [
    "m1 = np.array([[5,12,6],[-3,0,14]])"
   ]
  },
  {
   "cell_type": "code",
   "execution_count": 3,
   "id": "03863f0d",
   "metadata": {},
   "outputs": [],
   "source": [
    "m2 = np.array([[9,8,7],[1,3,-5]])"
   ]
  },
  {
   "cell_type": "code",
   "execution_count": 4,
   "id": "1d337888",
   "metadata": {},
   "outputs": [],
   "source": [
    "t = np.array([m1,m2]) #tensor creation"
   ]
  },
  {
   "cell_type": "code",
   "execution_count": 6,
   "id": "66b27730",
   "metadata": {},
   "outputs": [
    {
     "data": {
      "text/plain": [
       "(2, 2, 3)"
      ]
     },
     "execution_count": 6,
     "metadata": {},
     "output_type": "execute_result"
    }
   ],
   "source": [
    "t.shape #2 matrices with 2 rows 3 columns -> 2x(2x3)"
   ]
  },
  {
   "cell_type": "code",
   "execution_count": 9,
   "id": "ec8db57e",
   "metadata": {},
   "outputs": [],
   "source": [
    "t_manual = np.array([[[5,12,6],[-3,0,14]], [[9,8,7],[1,3,-5]]])\n",
    "# create manual tensor"
   ]
  },
  {
   "cell_type": "code",
   "execution_count": 8,
   "id": "b2c804b6",
   "metadata": {},
   "outputs": [
    {
     "data": {
      "text/plain": [
       "array([[[ 5, 12,  6],\n",
       "        [-3,  0, 14]],\n",
       "\n",
       "       [[ 9,  8,  7],\n",
       "        [ 1,  3, -5]]])"
      ]
     },
     "execution_count": 8,
     "metadata": {},
     "output_type": "execute_result"
    }
   ],
   "source": [
    "t_manual "
   ]
  }
 ],
 "metadata": {
  "kernelspec": {
   "display_name": "Python 3 (ipykernel)",
   "language": "python",
   "name": "python3"
  },
  "language_info": {
   "codemirror_mode": {
    "name": "ipython",
    "version": 3
   },
   "file_extension": ".py",
   "mimetype": "text/x-python",
   "name": "python",
   "nbconvert_exporter": "python",
   "pygments_lexer": "ipython3",
   "version": "3.10.9"
  }
 },
 "nbformat": 4,
 "nbformat_minor": 5
}
