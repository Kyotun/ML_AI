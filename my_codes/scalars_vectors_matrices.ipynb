{
 "cells": [
  {
   "cell_type": "code",
   "execution_count": 1,
   "id": "b1588e75",
   "metadata": {},
   "outputs": [],
   "source": [
    "import numpy as np"
   ]
  },
  {
   "cell_type": "code",
   "execution_count": 2,
   "id": "d084e32f",
   "metadata": {},
   "outputs": [],
   "source": [
    "s = 5 # scalar"
   ]
  },
  {
   "cell_type": "code",
   "execution_count": 3,
   "id": "7f047210",
   "metadata": {},
   "outputs": [],
   "source": [
    "v = np.array([5, -2, 4]) #row vector"
   ]
  },
  {
   "cell_type": "code",
   "execution_count": 7,
   "id": "b49480b3",
   "metadata": {},
   "outputs": [],
   "source": [
    "m = np.array([[5, 12, 6], [-3, 0, 14],]) #matrix (2x3)"
   ]
  },
  {
   "cell_type": "code",
   "execution_count": 9,
   "id": "8a1a766c",
   "metadata": {},
   "outputs": [
    {
     "data": {
      "text/plain": [
       "int"
      ]
     },
     "execution_count": 9,
     "metadata": {},
     "output_type": "execute_result"
    }
   ],
   "source": [
    "#type method for the type of variable\n",
    "type(s)"
   ]
  },
  {
   "cell_type": "code",
   "execution_count": 10,
   "id": "83952991",
   "metadata": {},
   "outputs": [
    {
     "data": {
      "text/plain": [
       "numpy.ndarray"
      ]
     },
     "execution_count": 10,
     "metadata": {},
     "output_type": "execute_result"
    }
   ],
   "source": [
    "type(v) # 1D array"
   ]
  },
  {
   "cell_type": "code",
   "execution_count": 11,
   "id": "61fb9b5b",
   "metadata": {},
   "outputs": [
    {
     "data": {
      "text/plain": [
       "numpy.ndarray"
      ]
     },
     "execution_count": 11,
     "metadata": {},
     "output_type": "execute_result"
    }
   ],
   "source": [
    "type(m) # 2D array"
   ]
  },
  {
   "cell_type": "code",
   "execution_count": 12,
   "id": "fed7cdc7",
   "metadata": {},
   "outputs": [],
   "source": [
    "s_array = np.array(5) # 1x1 matrix, scalar to matrix"
   ]
  },
  {
   "cell_type": "code",
   "execution_count": 14,
   "id": "109d95d4",
   "metadata": {},
   "outputs": [
    {
     "data": {
      "text/plain": [
       "(2, 3)"
      ]
     },
     "execution_count": 14,
     "metadata": {},
     "output_type": "execute_result"
    }
   ],
   "source": [
    "m.shape # .shape , returns the dimensions of an array "
   ]
  },
  {
   "cell_type": "code",
   "execution_count": 16,
   "id": "27cd9cbf",
   "metadata": {},
   "outputs": [
    {
     "data": {
      "text/plain": [
       "(3,)"
      ]
     },
     "execution_count": 16,
     "metadata": {},
     "output_type": "execute_result"
    }
   ],
   "source": [
    "v.shape # likely to see (3,) or (3,1)"
   ]
  },
  {
   "cell_type": "code",
   "execution_count": 18,
   "id": "c2a38a29",
   "metadata": {},
   "outputs": [
    {
     "data": {
      "text/plain": [
       "array([[ 5, -2,  4]])"
      ]
     },
     "execution_count": 18,
     "metadata": {},
     "output_type": "execute_result"
    }
   ],
   "source": [
    "v.reshape(1,3) #reshape the array -> .reshape"
   ]
  },
  {
   "cell_type": "code",
   "execution_count": 20,
   "id": "d8ffc858",
   "metadata": {},
   "outputs": [
    {
     "data": {
      "text/plain": [
       "array([[ 5],\n",
       "       [-2],\n",
       "       [ 4]])"
      ]
     },
     "execution_count": 20,
     "metadata": {},
     "output_type": "execute_result"
    }
   ],
   "source": [
    "v.reshape(3,1)"
   ]
  },
  {
   "cell_type": "code",
   "execution_count": 22,
   "id": "5284a8b3",
   "metadata": {},
   "outputs": [
    {
     "ename": "AttributeError",
     "evalue": "'int' object has no attribute 'shape'",
     "output_type": "error",
     "traceback": [
      "\u001b[1;31m---------------------------------------------------------------------------\u001b[0m",
      "\u001b[1;31mAttributeError\u001b[0m                            Traceback (most recent call last)",
      "Cell \u001b[1;32mIn[22], line 1\u001b[0m\n\u001b[1;32m----> 1\u001b[0m \u001b[43ms\u001b[49m\u001b[38;5;241;43m.\u001b[39;49m\u001b[43mshape\u001b[49m\n",
      "\u001b[1;31mAttributeError\u001b[0m: 'int' object has no attribute 'shape'"
     ]
    }
   ],
   "source": [
    "s.shape #scalar don't have dimensions"
   ]
  },
  {
   "cell_type": "code",
   "execution_count": 24,
   "id": "250d7446",
   "metadata": {},
   "outputs": [
    {
     "data": {
      "text/plain": [
       "()"
      ]
     },
     "execution_count": 24,
     "metadata": {},
     "output_type": "execute_result"
    }
   ],
   "source": [
    "s_array.shape # () or (0), 0 dimension"
   ]
  },
  {
   "cell_type": "code",
   "execution_count": null,
   "id": "7fb2db1f",
   "metadata": {},
   "outputs": [],
   "source": []
  }
 ],
 "metadata": {
  "kernelspec": {
   "display_name": "Python 3 (ipykernel)",
   "language": "python",
   "name": "python3"
  },
  "language_info": {
   "codemirror_mode": {
    "name": "ipython",
    "version": 3
   },
   "file_extension": ".py",
   "mimetype": "text/x-python",
   "name": "python",
   "nbconvert_exporter": "python",
   "pygments_lexer": "ipython3",
   "version": "3.10.9"
  }
 },
 "nbformat": 4,
 "nbformat_minor": 5
}
