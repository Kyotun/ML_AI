{
 "cells": [
  {
   "cell_type": "code",
   "execution_count": 1,
   "id": "8beb1bfb",
   "metadata": {},
   "outputs": [],
   "source": [
    "import numpy as np"
   ]
  },
  {
   "cell_type": "code",
   "execution_count": 2,
   "id": "f72398c1",
   "metadata": {},
   "outputs": [],
   "source": [
    "A = np.array([[5,12,6],[-3,0,14]])"
   ]
  },
  {
   "cell_type": "code",
   "execution_count": 3,
   "id": "ae31396b",
   "metadata": {},
   "outputs": [
    {
     "data": {
      "text/plain": [
       "array([[ 5, -3],\n",
       "       [12,  0],\n",
       "       [ 6, 14]])"
      ]
     },
     "execution_count": 3,
     "metadata": {},
     "output_type": "execute_result"
    }
   ],
   "source": [
    "A.T # .T to transpose"
   ]
  },
  {
   "cell_type": "code",
   "execution_count": 4,
   "id": "e2602521",
   "metadata": {},
   "outputs": [],
   "source": [
    "s = np.array([5])"
   ]
  },
  {
   "cell_type": "code",
   "execution_count": 5,
   "id": "4ff10275",
   "metadata": {},
   "outputs": [
    {
     "data": {
      "text/plain": [
       "array([5])"
      ]
     },
     "execution_count": 5,
     "metadata": {},
     "output_type": "execute_result"
    }
   ],
   "source": [
    "s.T # 1x1 transpose -> 1x1"
   ]
  },
  {
   "cell_type": "code",
   "execution_count": 8,
   "id": "00ea938a",
   "metadata": {},
   "outputs": [
    {
     "data": {
      "text/plain": [
       "array([1, 2, 3])"
      ]
     },
     "execution_count": 8,
     "metadata": {},
     "output_type": "execute_result"
    }
   ],
   "source": [
    "v1 = np.array([1,2,3])\n",
    "v1"
   ]
  },
  {
   "cell_type": "code",
   "execution_count": 7,
   "id": "14fbefbb",
   "metadata": {},
   "outputs": [
    {
     "data": {
      "text/plain": [
       "array([1, 2, 3])"
      ]
     },
     "execution_count": 7,
     "metadata": {},
     "output_type": "execute_result"
    }
   ],
   "source": [
    "v1.T\n",
    "#That's because, in Phyton 1D arrays couldn't transposed"
   ]
  },
  {
   "cell_type": "code",
   "execution_count": 11,
   "id": "90b7166e",
   "metadata": {},
   "outputs": [
    {
     "data": {
      "text/plain": [
       "(3,)"
      ]
     },
     "execution_count": 11,
     "metadata": {},
     "output_type": "execute_result"
    }
   ],
   "source": [
    "v1.shape"
   ]
  },
  {
   "cell_type": "code",
   "execution_count": 21,
   "id": "cc48944d",
   "metadata": {},
   "outputs": [
    {
     "data": {
      "text/plain": [
       "array([[1, 2, 3]])"
      ]
     },
     "execution_count": 21,
     "metadata": {},
     "output_type": "execute_result"
    }
   ],
   "source": [
    "v1_reshaped = v1.reshape(1,3)\n",
    "v1_reshaped"
   ]
  },
  {
   "cell_type": "code",
   "execution_count": 22,
   "id": "6199d4f4",
   "metadata": {
    "scrolled": true
   },
   "outputs": [
    {
     "data": {
      "text/plain": [
       "(1, 3)"
      ]
     },
     "execution_count": 22,
     "metadata": {},
     "output_type": "execute_result"
    }
   ],
   "source": [
    "v1_reshaped.shape"
   ]
  },
  {
   "cell_type": "code",
   "execution_count": 23,
   "id": "8afc80a0",
   "metadata": {},
   "outputs": [
    {
     "data": {
      "text/plain": [
       "array([[1],\n",
       "       [2],\n",
       "       [3]])"
      ]
     },
     "execution_count": 23,
     "metadata": {},
     "output_type": "execute_result"
    }
   ],
   "source": [
    "v1_reshaped.T\n",
    "#That's allowed"
   ]
  },
  {
   "cell_type": "code",
   "execution_count": 26,
   "id": "945bd0b8",
   "metadata": {},
   "outputs": [
    {
     "data": {
      "text/plain": [
       "array([[1],\n",
       "       [2],\n",
       "       [3]])"
      ]
     },
     "execution_count": 26,
     "metadata": {},
     "output_type": "execute_result"
    }
   ],
   "source": [
    "v1_reshaped2 = v1_reshaped.reshape(3,1)\n",
    "v1_reshaped2"
   ]
  },
  {
   "cell_type": "code",
   "execution_count": 27,
   "id": "101a1c7c",
   "metadata": {},
   "outputs": [
    {
     "data": {
      "text/plain": [
       "(3, 1)"
      ]
     },
     "execution_count": 27,
     "metadata": {},
     "output_type": "execute_result"
    }
   ],
   "source": [
    "v1_reshaped2.shape"
   ]
  },
  {
   "cell_type": "code",
   "execution_count": 28,
   "id": "4a95ce32",
   "metadata": {},
   "outputs": [
    {
     "data": {
      "text/plain": [
       "array([[1, 2, 3]])"
      ]
     },
     "execution_count": 28,
     "metadata": {},
     "output_type": "execute_result"
    }
   ],
   "source": [
    "v1_reshaped2.T"
   ]
  },
  {
   "cell_type": "code",
   "execution_count": null,
   "id": "47aade15",
   "metadata": {},
   "outputs": [],
   "source": []
  }
 ],
 "metadata": {
  "kernelspec": {
   "display_name": "Python 3 (ipykernel)",
   "language": "python",
   "name": "python3"
  },
  "language_info": {
   "codemirror_mode": {
    "name": "ipython",
    "version": 3
   },
   "file_extension": ".py",
   "mimetype": "text/x-python",
   "name": "python",
   "nbconvert_exporter": "python",
   "pygments_lexer": "ipython3",
   "version": "3.10.9"
  }
 },
 "nbformat": 4,
 "nbformat_minor": 5
}
