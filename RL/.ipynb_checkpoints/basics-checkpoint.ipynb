{
 "cells": [
  {
   "cell_type": "code",
   "execution_count": 533,
   "id": "efbf87ab",
   "metadata": {},
   "outputs": [],
   "source": [
    "import os\n",
    "import gym"
   ]
  },
  {
   "cell_type": "code",
   "execution_count": 504,
   "id": "0ae47fe6",
   "metadata": {},
   "outputs": [],
   "source": [
    "environment = 'CartPole-v1'\n",
    "env = gym.make(environment)"
   ]
  },
  {
   "cell_type": "code",
   "execution_count": 526,
   "id": "72bccf09",
   "metadata": {},
   "outputs": [
    {
     "name": "stdout",
     "output_type": "stream",
     "text": [
      "Episode:1 Score:24.0\n",
      "Episode:2 Score:22.0\n",
      "Episode:3 Score:18.0\n",
      "Episode:4 Score:22.0\n",
      "Episode:5 Score:24.0\n"
     ]
    }
   ],
   "source": [
    "episodes = 5\n",
    "for episode in range(1, episodes+1):\n",
    "    state = env.reset() #Initial set of observations\n",
    "    done = False\n",
    "    score = 0\n",
    "    \n",
    "    while not done:\n",
    "        env.render() #View the graphical representation of environment\n",
    "        action = env.action_space.sample() #Generate random actions\n",
    "        # Two actions possible -> push left / right\n",
    "        \n",
    "        # env.observation_space\n",
    "        # Observation_space -> Position, Velocity of Cart ; Pole Angle and Agular Velocity\n",
    "        # These make 4 info, in other words Box(4)\n",
    "        \n",
    "        n_state, reward, done, info , extra_info = env.step(action)\n",
    "        score += reward\n",
    "    print('Episode:{} Score:{}'.format(episode,score))\n",
    "env.close()"
   ]
  },
  {
   "cell_type": "code",
   "execution_count": 528,
   "id": "f6175d56",
   "metadata": {},
   "outputs": [
    {
     "data": {
      "text/plain": [
       "'Training/Logs'"
      ]
     },
     "execution_count": 528,
     "metadata": {},
     "output_type": "execute_result"
    }
   ],
   "source": [
    "#Create/Make the directories\n",
    "log_path = os.path.join('Training', 'Logs')\n",
    "log_path"
   ]
  },
  {
   "cell_type": "code",
   "execution_count": 530,
   "id": "9dc439f8",
   "metadata": {},
   "outputs": [
    {
     "ename": "NameError",
     "evalue": "name 'DummyVecEnv' is not defined",
     "output_type": "error",
     "traceback": [
      "\u001b[0;31m---------------------------------------------------------------------------\u001b[0m",
      "\u001b[0;31mNameError\u001b[0m                                 Traceback (most recent call last)",
      "Cell \u001b[0;32mIn[530], line 2\u001b[0m\n\u001b[1;32m      1\u001b[0m env \u001b[38;5;241m=\u001b[39m gym\u001b[38;5;241m.\u001b[39mmake(environment)\n\u001b[0;32m----> 2\u001b[0m env \u001b[38;5;241m=\u001b[39m DummyVecEnv([\u001b[38;5;28;01mlambda\u001b[39;00m: env])\n\u001b[1;32m      3\u001b[0m model \u001b[38;5;241m=\u001b[39m PPO(\u001b[38;5;124m'\u001b[39m\u001b[38;5;124mMlpPolicy\u001b[39m\u001b[38;5;124m'\u001b[39m, env, verbose\u001b[38;5;241m=\u001b[39m\u001b[38;5;241m1\u001b[39m, tensorboard_log\u001b[38;5;241m=\u001b[39mlog_path)\n",
      "\u001b[0;31mNameError\u001b[0m: name 'DummyVecEnv' is not defined"
     ]
    }
   ],
   "source": [
    "env = gym.make(environment)\n",
    "env = DummyVecEnv([lambda: env])\n",
    "model = PPO('MlpPolicy', env, verbose=1, tensorboard_log=log_path)"
   ]
  },
  {
   "cell_type": "code",
   "execution_count": null,
   "id": "b1c43f39",
   "metadata": {},
   "outputs": [],
   "source": []
  }
 ],
 "metadata": {
  "kernelspec": {
   "display_name": "Python 3 (ipykernel)",
   "language": "python",
   "name": "python3"
  },
  "language_info": {
   "codemirror_mode": {
    "name": "ipython",
    "version": 3
   },
   "file_extension": ".py",
   "mimetype": "text/x-python",
   "name": "python",
   "nbconvert_exporter": "python",
   "pygments_lexer": "ipython3",
   "version": "3.11.5"
  }
 },
 "nbformat": 4,
 "nbformat_minor": 5
}
